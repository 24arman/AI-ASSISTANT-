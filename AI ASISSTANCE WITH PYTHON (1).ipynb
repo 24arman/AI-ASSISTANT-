{
 "cells": [
  {
   "cell_type": "code",
   "execution_count": 1,
   "id": "8f8a7d9a",
   "metadata": {},
   "outputs": [],
   "source": [
    "import pyttsx3 # pip install pyttsx3\n",
    "import datetime\n",
    "import speech_recognition as sr\n",
    "import wikipedia\n",
    "import smtplib \n",
    "import webbrowser as wb\n",
    "import subprocess\n",
    "import os\n",
    "from gtts import gTTS\n",
    "import IPython.display as ipd\n",
    "from IPython.display import Audio\n",
    "import pyautogui\n",
    "import psutil\n",
    "import pyjokes"
   ]
  },
  {
   "cell_type": "code",
   "execution_count": 2,
   "id": "cdd2ad3c",
   "metadata": {},
   "outputs": [],
   "source": [
    "engine = pyttsx3.init()"
   ]
  },
  {
   "cell_type": "code",
   "execution_count": 3,
   "id": "2efd8c41",
   "metadata": {},
   "outputs": [
    {
     "data": {
      "text/plain": [
       "<pyttsx3.engine.Engine at 0x1e376521820>"
      ]
     },
     "execution_count": 3,
     "metadata": {},
     "output_type": "execute_result"
    }
   ],
   "source": [
    "engine"
   ]
  },
  {
   "cell_type": "code",
   "execution_count": 4,
   "id": "da1893c0",
   "metadata": {},
   "outputs": [],
   "source": [
    "engine.say(\"This is Jarvis\")\n",
    "engine.runAndWait()"
   ]
  },
  {
   "cell_type": "code",
   "execution_count": 5,
   "id": "1c2f642a",
   "metadata": {},
   "outputs": [],
   "source": [
    "def speak(audio):\n",
    "    engine.say(audio)\n",
    "    engine.runAndWait()\n",
    "speak(\"this is jarvis ai assistant\")\n",
    "\n",
    "def time():\n",
    "    Time = datetime.datetime.now().strftime(\"%I:%M:%S\")\n",
    "    speak(\"the current time is \")\n",
    "    speak(Time)\n",
    "    \n",
    "time()\n",
    "\n",
    "def date():\n",
    "    year = int(datetime.datetime.now().year)\n",
    "    month = int(datetime.datetime.now().month)\n",
    "    date = int(datetime.datetime.now().day)\n",
    "    speak(\"the current date is \")\n",
    "    speak(date)\n",
    "    speak(month)\n",
    "    speak(year)\n",
    "date()\n"
   ]
  },
  {
   "cell_type": "code",
   "execution_count": 6,
   "id": "c56abd4b",
   "metadata": {},
   "outputs": [],
   "source": [
    "def speak(text):\n",
    "    engine = pyttsx3.init()\n",
    "    engine.say(text)\n",
    "    engine.runAndWait()\n",
    "\n",
    "\n",
    "def wishme():\n",
    "    speak(\"Welcome back sir!\")\n",
    "    \n",
    "    time()\n",
    "    \n",
    "    date()\n",
    "    hour = datetime.datetime.now().hour\n",
    "    if hour >=6 and hour<12:\n",
    "        speak(\"Good morning sir!\")\n",
    "    elif hour>=12 and hour<18:\n",
    "        speak(\"Good afternoon sir\")\n",
    "    elif hour>=18 and hour>24:\n",
    "        speak(\"Good evening sir\")\n",
    "    else:\n",
    "        speak(\"Good night sir\")\n",
    "        \n",
    "    speak(\"Jarvis at your service. Please tell me how can i help you?\")\n",
    "    \n",
    "wishme()"
   ]
  },
  {
   "cell_type": "code",
   "execution_count": 7,
   "id": "cf6c4f3b",
   "metadata": {},
   "outputs": [
    {
     "name": "stdout",
     "output_type": "stream",
     "text": [
      "Listening...\n",
      "Recognizning...\n",
      "\n"
     ]
    },
    {
     "data": {
      "text/plain": [
       "'None'"
      ]
     },
     "execution_count": 7,
     "metadata": {},
     "output_type": "execute_result"
    }
   ],
   "source": [
    "def takeCommand():\n",
    "    r = sr.Recognizer()\n",
    "    with sr.Microphone() as source:\n",
    "        print(\"Listening...\")\n",
    "        r.pause_threshold= 1\n",
    "        audio = r.listen(source)\n",
    "        \n",
    "    try:\n",
    "        print(\"Recognizning...\")\n",
    "        querry = r.recognize_google(audio ,language='en-in')\n",
    "        print(querry)\n",
    "        if 'hello jarvis' in querry.lower():\n",
    "            speak(\"Hello sir, john\")\n",
    "            \n",
    "        \n",
    "    except Exception as e:\n",
    "        print(e)\n",
    "        speak(\"Say that again please...\")\n",
    "        return 'None'\n",
    "    return querry\n",
    "takeCommand()"
   ]
  },
  {
   "cell_type": "code",
   "execution_count": null,
   "id": "433646b2",
   "metadata": {},
   "outputs": [
    {
     "name": "stdout",
     "output_type": "stream",
     "text": [
      "Listening...\n",
      "Recognizning...\n",
      "jarvis play songs\n",
      "Listening...\n",
      "Recognizning...\n",
      "\n",
      "Listening...\n",
      "Recognizning...\n",
      "\n",
      "Listening...\n",
      "Recognizning...\n",
      "\n",
      "Listening...\n",
      "Recognizning...\n",
      "\n",
      "Listening...\n",
      "Recognizning...\n",
      "\n",
      "Listening...\n"
     ]
    }
   ],
   "source": [
    "def speak(text):\n",
    "    engine = pyttsx3.init()\n",
    "    engine.say(text)\n",
    "    engine.runAndWait()\n",
    "    \n",
    "def sendemail(to, contain):\n",
    "    server = smtplib.SMPT('smtp.gmail.com',587)\n",
    "    server.ehlo()\n",
    "    server.starttls()\n",
    "    server.login('abc@gmail.com','##31')\n",
    "    server.sendmail('adc@gmail.com',to,content)\n",
    "    server.close()\n",
    "\n",
    "def screenshot():\n",
    "    img = pyautogui.screenshot()\n",
    "    img.save(\"C:\\\\Users\\\\hplap\\\\OneDrive\\\\Desktop\\\\ss.png\")\n",
    "    \n",
    "def cpu():\n",
    "    usage = str(psutil.cpu_percent())\n",
    "    speak(\"CPU is at\"+usage)\n",
    "    battery = psutil.sensors_battery()\n",
    "    speak(\"battery percentage is\")\n",
    "    speak(battery.percent )\n",
    "    \n",
    "def jokes():\n",
    "    speak(pyjokes.get_joke())\n",
    "    \n",
    "\n",
    "if __name__ == \"__main__\":\n",
    "    wishme()\n",
    "    while True:\n",
    "        query = takeCommand().lower()\n",
    "        if 'time' in query:\n",
    "            current_time = datetime.datetime.now().strftime(\"%H:%M:%S\")\n",
    "            speak(f\"The current time is {current_time}\")\n",
    "            \n",
    "        elif 'date' in query:\n",
    "            current_date = datetime.datetime.now().strftime(\"%Y-%m-%d\")\n",
    "            speak(f\"Today's date is {current_date}\")\n",
    "            \n",
    "        elif 'wikipedia' in query:\n",
    "            speak(\"Searching...\")\n",
    "            query = query.replace(\"wikipedia\", \"\").strip()\n",
    "            try:\n",
    "                result = wikipedia.summary(query, sentences=2)\n",
    "                print(result)\n",
    "                speak(result)\n",
    "            except wikipedia.exceptions.DisambiguationError as e:\n",
    "                speak(\"I found multiple results. Please be more specific.\")\n",
    "            except wikipedia.exceptions.PageError as e:\n",
    "                speak(\"Sorry, I couldn't find any information on this topic.\")\n",
    "        elif 'send email' in query:\n",
    "            try:\n",
    "                speak(\"What should i say\")\n",
    "                content = takeCommand()\n",
    "                to = 'xyz@gmail.com'\n",
    "                #sendEmail(to,content)\n",
    "\n",
    "                speak(\"Email has been sent!\")\n",
    "    \n",
    "            except Exception as e:\n",
    "                print(e)\n",
    "                speak(\"Sorry sir,Unable to send email\")\n",
    "                \n",
    "        elif 'search in chrome' in query:  # Change to lowercase for consistency\n",
    "            speak(\"What should I search?\")\n",
    "            search = takeCommand().lower()\n",
    "            chromepath = r\"C:/Program Files (x86)/Google/Chrome/Application/chrome.exe %s\"\n",
    "            wb.get(chromepath).open_new_tab(search+'.com')\n",
    "        \n",
    "        \n",
    "        elif 'logout' in query:\n",
    "            \n",
    "            os.system(\"shutdown -l\")\n",
    "        \n",
    "        elif 'shutdown' in query:\n",
    "            os.system(\"shutdown /s /t 1\")\n",
    "        \n",
    "        elif 'restart' in query:\n",
    "            os.system(\"shutdown /r /t 1\")\n",
    "            \n",
    "            \n",
    "        elif 'play songs' in query:\n",
    "            music_dir = 'D:\\music'\n",
    "            songs = os.listdir(music_dir)\n",
    "            os.startfile(os.path.join(music_dir, songs[1]))\n",
    "\n",
    "        elif 'remember that' in query:\n",
    "            speak(\"What Should I remember\")\n",
    "            data = takeCommand()\n",
    "            speak(\"you said me to remember that\"+data)\n",
    "            remember = open('data.txt','w')\n",
    "            remember.write(data)\n",
    "            remember.close()\n",
    "        elif 'do you know anything' in  query:\n",
    "            remember = open('data.txt','r')\n",
    "            speak(\"you said me to remember that\"+remember.read())\n",
    "            \n",
    "        elif 'take screenshot' in query:\n",
    "            screenshot()\n",
    "            speak(\"Done, Sir\")\n",
    "        elif 'cpu' in query:\n",
    "            cpu()\n",
    "         \n",
    "        elif 'joke' in query:\n",
    "            jokes()\n",
    "            \n",
    "            \n",
    "        elif 'go offline' in query:\n",
    "            speak(\"Goodbye!\")\n",
    "            speak(\"Have a good day!\")\n",
    "            \n",
    "            break"
   ]
  },
  {
   "cell_type": "code",
   "execution_count": null,
   "id": "ff49a23c",
   "metadata": {},
   "outputs": [],
   "source": []
  },
  {
   "cell_type": "code",
   "execution_count": null,
   "id": "33d93cad",
   "metadata": {},
   "outputs": [],
   "source": []
  }
 ],
 "metadata": {
  "kernelspec": {
   "display_name": "Python 3 (ipykernel)",
   "language": "python",
   "name": "python3"
  },
  "language_info": {
   "codemirror_mode": {
    "name": "ipython",
    "version": 3
   },
   "file_extension": ".py",
   "mimetype": "text/x-python",
   "name": "python",
   "nbconvert_exporter": "python",
   "pygments_lexer": "ipython3",
   "version": "3.9.13"
  }
 },
 "nbformat": 4,
 "nbformat_minor": 5
}
